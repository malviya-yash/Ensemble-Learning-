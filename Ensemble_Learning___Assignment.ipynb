{
  "nbformat": 4,
  "nbformat_minor": 0,
  "metadata": {
    "colab": {
      "provenance": []
    },
    "kernelspec": {
      "name": "python3",
      "display_name": "Python 3"
    },
    "language_info": {
      "name": "python"
    }
  },
  "cells": [
    {
      "cell_type": "markdown",
      "source": [
        "#Ensemble Learning\n"
      ],
      "metadata": {
        "id": "6deLW2JkO_06"
      }
    },
    {
      "cell_type": "markdown",
      "source": [
        "Q1. What is Ensemble Learning in machine learning? Explain the key idea\n",
        "behind it.\n",
        "   - Ensemble learning is when we combine the results of several machine learning models to make better predictions than a single model alone.\n",
        "     The main idea is many weak models working together can make a strong model, just like a group decision is often better than one person’s guess.\n",
        "\n",
        "Q2. What is the difference between Bagging and Boosting?\n",
        "\n",
        "    - * Bagging:\n",
        "\n",
        "          * Stands for Bootstrap Aggregating.\n",
        "\n",
        "          * Trains many models is parallel on different random smaples of the data.\n",
        "\n",
        "          * Reduces variance  ( prevents overfitting).\n",
        "\n",
        "          * Ecample:- Random forest.\n",
        "\n",
        "      * Boosting\n",
        "\n",
        "          * Models are trained one after another is sequence.\n",
        "\n",
        "          * Each new model focuses on fixing mistakes of the previous one.\n",
        "\n",
        "          * Reduces bias (makes predictons more accurate).\n",
        "          Example:- XGBoost, AdaBoost.\n",
        "\n",
        "Q3. What is bootstrap sampling and what role does it play in Bagging methods\n",
        "like Random Forest?\n",
        "\n",
        "    - Bootstrap sampling means randomly picking samples with replacement from the original dataset to create many new datasets.\n",
        "\n",
        "    In Bagging (like Random Forest), this ensure each model sees slightly different data, making the final combind prediction more reliable.\n",
        "\n",
        "Q4. What are Out-of-Bag (OOB) samples and how is OOB score used to\n",
        "evaluate ensemble models?\n",
        "\n",
        "    - When we create bootstrap samples, some data points are left out - these are Out of Bag Smples.\n",
        "\n",
        "    We can test each model using its OOB samples to estimate accuracy without needing a separate test set.\n",
        "    The OOB score is this accuracy measure.\n",
        "\n",
        "Q5. Compare feature importance analysis in a single Decision Tree vs. a\n",
        "Random Forest.\n",
        "    \n",
        "    - * Single Decision Tree:-  Importance is based on how much each split improves prdection in that tree.\n",
        "\n",
        "    * Random Forest:- Importance is averaged from all trees in the forest, making it more stable and reliable.\n",
        "    \n",
        "    "
      ],
      "metadata": {
        "id": "Epec3VXejO6j"
      }
    },
    {
      "cell_type": "markdown",
      "source": [
        "Q6. Write a Python program to:\n",
        "\n",
        "● Load the Breast Cancer dataset using\n",
        "sklearn.datasets.load_breast_cancer()\n",
        "\n",
        "● Train a Random Forest Classifier\n",
        "\n",
        "● Print the top 5 most important features based on feature importance scores.\n",
        ""
      ],
      "metadata": {
        "id": "ZkixGiZ3oppu"
      }
    },
    {
      "cell_type": "code",
      "source": [
        "pip --version"
      ],
      "metadata": {
        "colab": {
          "base_uri": "https://localhost:8080/"
        },
        "id": "WZJ2Tb2UrAZ8",
        "outputId": "611bf0de-79fb-4a79-e103-346ade9b1da1"
      },
      "execution_count": 2,
      "outputs": [
        {
          "output_type": "stream",
          "name": "stdout",
          "text": [
            "pip 24.1.2 from /usr/local/lib/python3.11/dist-packages/pip (python 3.11)\n"
          ]
        }
      ]
    },
    {
      "cell_type": "code",
      "source": [
        "pip install requests"
      ],
      "metadata": {
        "colab": {
          "base_uri": "https://localhost:8080/"
        },
        "id": "DDXbVzAmrCkC",
        "outputId": "0291deac-eead-43a6-be2d-226273659c8d"
      },
      "execution_count": 3,
      "outputs": [
        {
          "output_type": "stream",
          "name": "stdout",
          "text": [
            "Requirement already satisfied: requests in /usr/local/lib/python3.11/dist-packages (2.32.3)\n",
            "Requirement already satisfied: charset-normalizer<4,>=2 in /usr/local/lib/python3.11/dist-packages (from requests) (3.4.3)\n",
            "Requirement already satisfied: idna<4,>=2.5 in /usr/local/lib/python3.11/dist-packages (from requests) (3.10)\n",
            "Requirement already satisfied: urllib3<3,>=1.21.1 in /usr/local/lib/python3.11/dist-packages (from requests) (2.5.0)\n",
            "Requirement already satisfied: certifi>=2017.4.17 in /usr/local/lib/python3.11/dist-packages (from requests) (2025.8.3)\n"
          ]
        }
      ]
    },
    {
      "cell_type": "code",
      "execution_count": 7,
      "metadata": {
        "colab": {
          "base_uri": "https://localhost:8080/"
        },
        "id": "2-Xgnep1gy4C",
        "outputId": "fc444e3e-d715-40f0-90a7-016098caade0"
      },
      "outputs": [
        {
          "output_type": "stream",
          "name": "stdout",
          "text": [
            "worst area              0.139357\n",
            "worst concave points    0.132225\n",
            "mean concave points     0.107046\n",
            "worst radius            0.082848\n",
            "worst perimeter         0.080850\n",
            "dtype: float64\n"
          ]
        }
      ],
      "source": [
        "from sklearn.datasets import load_breast_cancer\n",
        "from sklearn.ensemble import RandomForestClassifier\n",
        "\n",
        "import pandas as pd\n",
        "\n",
        "#Load data\n",
        "data = load_breast_cancer()\n",
        "X, y = data.data, data.target\n",
        "\n",
        "#Train model\n",
        "rf = RandomForestClassifier(random_state=42)\n",
        "rf.fit(X, y)\n",
        "\n",
        "#Feature importance\n",
        "importances = pd.Series(rf.feature_importances_, index=data.feature_names)\n",
        "print(importances.sort_values(ascending=False).head(5))"
      ]
    },
    {
      "cell_type": "markdown",
      "source": [
        "Q7. Write a Python program to:\n",
        "\n",
        "● Train a Bagging Classifier using Decision Trees on the Iris dataset\n",
        "\n",
        "● Evaluate its accuracy and compare with a single Decision Tree"
      ],
      "metadata": {
        "id": "hJznjMjxsEIi"
      }
    },
    {
      "cell_type": "code",
      "source": [
        "from sklearn.datasets import load_iris\n",
        "from sklearn.model_selection import train_test_split\n",
        "from sklearn.tree import DecisionTreeClassifier\n",
        "from sklearn.ensemble import BaggingClassifier\n",
        "from sklearn.metrics import accuracy_score\n",
        "\n",
        "#load data\n",
        "X, y = load_iris(return_X_y=True)\n",
        "X_train, X_test, y_train, y_test = train_test_split(X, y, test_size=0.3, random_state=42)\n",
        "\n",
        "#Single Decision Tree\n",
        "tree = DecisionTreeClassifier(random_state=42)\n",
        "tree.fit(X_train, y_train)\n",
        "tree_acc = accuracy_score(y_test, tree.predict(X_test))\n",
        "\n",
        "#Bagging Classifier\n",
        "bag = BaggingClassifier(DecisionTreeClassifier(), n_estimators=50, random_state=42)\n",
        "bag.fit(X_train, y_train)\n",
        "bag_acc = accuracy_score(y_test, bag.predict(X_test))\n",
        "\n",
        "print(\"Decision Tree Accuracy:\", tree_acc)\n",
        "print(\"Bagging Accuracy:\",bag_acc)\n"
      ],
      "metadata": {
        "colab": {
          "base_uri": "https://localhost:8080/"
        },
        "id": "rTXEGswaqqQN",
        "outputId": "4f52709e-e0c6-42bd-8094-e350391b6377"
      },
      "execution_count": 10,
      "outputs": [
        {
          "output_type": "stream",
          "name": "stdout",
          "text": [
            "Decision Tree Accuracy: 1.0\n",
            "Bagging Accuracy: 1.0\n"
          ]
        }
      ]
    },
    {
      "cell_type": "markdown",
      "source": [
        "Q8. Write a Python program to:\n",
        "\n",
        "● Train a Random Forest Classifier\n",
        "\n",
        "● Tune hyperparameters max_depth and n_estimators using GridSearchCV\n",
        "\n",
        "● Print the best parameters and final accuracy\n"
      ],
      "metadata": {
        "id": "2P1-ajCCynF2"
      }
    },
    {
      "cell_type": "code",
      "source": [
        "from sklearn.model_selection import GridSearchCV\n",
        "import numpy as np\n",
        "\n",
        "param_grid = {\n",
        "    'n_estimators': [50, 100, 150],\n",
        "    'max_depth': [None, 5, 10]\n",
        "}\n",
        "grid = GridSearchCV(RandomForestClassifier(), param_grid, cv=5)\n",
        "grid.fit(X, y)\n",
        "\n",
        "print(\"Best Parameters:\", grid.best_params_)\n",
        "print(\"Best Accuracy:\", grid.best_score_)"
      ],
      "metadata": {
        "colab": {
          "base_uri": "https://localhost:8080/"
        },
        "id": "TWzBvoe0wo2j",
        "outputId": "70b38527-f83a-4ee7-d94b-07a807d59e45"
      },
      "execution_count": 12,
      "outputs": [
        {
          "output_type": "stream",
          "name": "stdout",
          "text": [
            "Best Parameters: {'max_depth': 5, 'n_estimators': 50}\n",
            "Best Accuracy: 0.9666666666666668\n"
          ]
        }
      ]
    },
    {
      "cell_type": "markdown",
      "source": [
        "Q9. Write a Python program to:\n",
        "\n",
        "● Train a Bagging Regressor and a Random Forest Regressor on the California\n",
        "Housing dataset\n",
        "\n",
        "● Compare their Mean Squared Errors (MSE)\n"
      ],
      "metadata": {
        "id": "VxtFqpGe0z_7"
      }
    },
    {
      "cell_type": "code",
      "source": [
        "from sklearn.datasets import fetch_california_housing\n",
        "from sklearn.ensemble import BaggingRegressor, RandomForestRegressor\n",
        "from sklearn.metrics import mean_squared_error\n",
        "from sklearn.model_selection import train_test_split\n",
        "#load data\n",
        "data = fetch_california_housing()\n",
        "X_train, X_test, y_train, y_test = train_test_split(data.data, data.target, test_size=0.3, random_state=42)\n",
        "\n",
        "#Bagging Regressor\n",
        "bag_reg = BaggingRegressor(random_state=42)\n",
        "bag_reg.fit(X_train, y_train)\n",
        "bag_mse = mean_squared_error(y_test, bag_reg.predict(X_test))\n",
        "\n",
        "#Random Forest Regressor\n",
        "rf_reg = RandomForestRegressor(random_state=42)\n",
        "rf_reg.fit(X_train, y_train)\n",
        "rf_mse = mean_squared_error(y_test, rf_reg.predict(X_test))\n",
        "\n",
        "print(\"Bagging MSE:\", bag_mse)\n",
        "print(\"Random Forest MSE:\", rf_mse)"
      ],
      "metadata": {
        "colab": {
          "base_uri": "https://localhost:8080/"
        },
        "id": "gJ9wbJvF0jDv",
        "outputId": "3873637b-923d-4250-9855-bcb23cda6d2b"
      },
      "execution_count": 13,
      "outputs": [
        {
          "output_type": "stream",
          "name": "stdout",
          "text": [
            "Bagging MSE: 0.28623579601385674\n",
            "Random Forest MSE: 0.25650512920799395\n"
          ]
        }
      ]
    },
    {
      "cell_type": "markdown",
      "source": [
        "Q10. You are working as a data scientist at a financial institution to predict loan\n",
        "\n",
        "default. You have access to customer demographic and transaction history data.\n",
        "You decide to use ensemble techniques to increase model performance.\n",
        "\n",
        "Explain your step-by-step approach to:\n",
        "\n",
        "● Choose between Bagging or Boosting\n",
        "\n",
        "● Handle overfitting\n",
        "\n",
        "● Select base models\n",
        "\n",
        "● Evaluate performance using cross-validation\n",
        "\n",
        "● Justify how ensemble learning improves decision-making in this real-world\n",
        "context.\n",
        "\n",
        "    - 1. Choose Bagging or Boosting:\n",
        "        \n",
        "        * If the model is overfitting -Bagging (e.g RandomForest).\n",
        "\n",
        "        * if the model is underfitting - Boosting (e.g XGBoost).\n",
        "\n",
        "        * Loan default prdiction often benefits from Boosting because it can handle complex patterns.\n",
        "\n",
        "    2.  Handle Overfitting\n",
        "\n",
        "        * Limit tree depth, use regularization, tune parameters with cross-validation.\n",
        "\n",
        "   3. Select Base Models:\n",
        "\n",
        "      * Decision trees, Logistc Regression, or Gradient Boosted Trees depending on data.\n",
        "\n",
        "   4. Ecaluate performance:\n",
        "      \n",
        "      * Use k-fold cross-validation for stable accuracy scores.\n",
        "\n",
        "  5. Why Ensemble\n",
        "     \n",
        "     * Combines multiple models for more accurate risk predictions, reduces wrong approvals, and minimize financial losses."
      ],
      "metadata": {
        "id": "fduff79TKCRH"
      }
    },
    {
      "cell_type": "code",
      "source": [
        "#Questions\n",
        "\n",
        "\"\"\"\n",
        "This is answers\n",
        "\"\"\""
      ],
      "metadata": {
        "colab": {
          "base_uri": "https://localhost:8080/",
          "height": 35
        },
        "id": "k7JKuBDDJ1Ge",
        "outputId": "c0e91a3c-d046-4fe9-cba8-d7d429b498f8"
      },
      "execution_count": 14,
      "outputs": [
        {
          "output_type": "execute_result",
          "data": {
            "text/plain": [
              "'\\nThis is answers\\n'"
            ],
            "application/vnd.google.colaboratory.intrinsic+json": {
              "type": "string"
            }
          },
          "metadata": {},
          "execution_count": 14
        }
      ]
    },
    {
      "cell_type": "code",
      "source": [],
      "metadata": {
        "id": "KohlhPndPUvJ"
      },
      "execution_count": null,
      "outputs": []
    }
  ]
}